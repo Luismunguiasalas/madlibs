{
 "metadata": {
  "language_info": {
   "codemirror_mode": {
    "name": "ipython",
    "version": 3
   },
   "file_extension": ".py",
   "mimetype": "text/x-python",
   "name": "python",
   "nbconvert_exporter": "python",
   "pygments_lexer": "ipython3",
   "version": "3.8.5-final"
  },
  "orig_nbformat": 2,
  "kernelspec": {
   "name": "python3",
   "display_name": "Python 3",
   "language": "python"
  }
 },
 "nbformat": 4,
 "nbformat_minor": 2,
 "cells": [
  {
   "cell_type": "code",
   "execution_count": null,
   "metadata": {},
   "outputs": [],
   "source": [
    "starwars_madlibs = [\"\"]\n",
    "entries = [\"adjective\", \"noun\"]\n",
    "something = \"something{}, something {}\"\n",
    "def funct(entries):\n",
    "    for i in range(len(entries)):\n",
    "        entries[i] = input(entries[i])\n",
    "    return entries\n",
    "\n",
    "\n",
    "result = funct(entries)\n",
    "something.format(*entries)"
   ]
  },
  {
   "cell_type": "code",
   "execution_count": null,
   "metadata": {},
   "outputs": [],
   "source": [
    "import random\n",
    "madlibs = [\n",
    "    {\n",
    "    \"starwars\" : \"Star Wars is a {} {} of {} versus evil in a {} far far away.There are {} battles between {} {} in {} space and {} duel with {} called {} sabers. {} called droids, are helpers and {} to the heroes. A {} power called The {} {}s people to do {} things, like {} {}. The Jedi {} us The Force for the {} side and the Sith {} it for the {} side.\",\n",
    "\n",
    "    \"entries\": [\"Enter: adjective\", \"Enter: noun\",\"Enter: adjective\", \"Enter: noun:place\", \"Enter: adjective\",\"Enter: adjective\", \"Enter: noun:vehicle\", \"Enter: adjective\", \"Enter: adjective\", \"Enter: noun\", \"Enter: adjective\", \"Enter: plural\", \"Enter: plural noun\", \"Enter: adjective\", \"Enter: noun\", \"Enter: verb\",\"Enter: adjective\", \"Enter: verb\", \"Enter: plural noun\", \"Enter: noun\", \"Enter: adjective\", \"Enter: verb\", \"Enter: adjective\"]\n",
    "    },\n",
    "    {\n",
    "    \"Pizza\" : \"Pizza was invented by a {} {} chef named {}. To make a pizza, you need to take a lump of {}, and make a thin, round {} {}. Thenn you cover it with {} sauce, {} cheese, and fresh chopped {}. Next you have to bake it in a very hot {}. when it is done, cut it into {} {}. Some kids like {} pizza the best, but my favorite is the {} pizza. if I could, I would eat pizza {} times a day \",\n",
    "    \n",
    "    \"entries\": [\"Enter: adjective\", \"Enter: nationality\", \"Enter: person\", \"Enter: noun\", \"Enter: adjective\", \"Enter: noun\", \"Enter: adjective\", \"Enter: adjective\", \"Enter: plural noun\", \"Enter: noun\", \"Enter: number\", \"Enter: shapes\", \"Enter: food\", \"Enter: food\", \"Enter: number\"]\n",
    "    },\n",
    "    {\n",
    "    \"starwars\" : \"something {}, world {}\", # to do, enter another mad libs\n",
    "    \"entries\": [\"adjective\", \"noun\"]\n",
    "    }\n",
    "]\n",
    "\n",
    "number = random.randint(0, len(madlibs) -1 )\n",
    "\n",
    "def get_user_input(entries):   # get user input, for loop\n",
    "    for i in range(len(entries)):\n",
    "        entries[i] = input(entries[i])\n",
    "    return entries\n",
    "\n",
    "result = get_user_input(madlibs[0][\"entries\"]) # initiate the function get_user_input\n",
    "\n",
    "madlibs[number][\"starwars\"].format(*result). # dump all the user input in the string story\n",
    "# print(result)"
   ]
  },
  {
   "cell_type": "code",
   "execution_count": null,
   "metadata": {},
   "outputs": [],
   "source": []
  }
 ]
}