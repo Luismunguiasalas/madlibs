{
 "metadata": {
  "language_info": {
   "codemirror_mode": {
    "name": "ipython",
    "version": 3
   },
   "file_extension": ".py",
   "mimetype": "text/x-python",
   "name": "python",
   "nbconvert_exporter": "python",
   "pygments_lexer": "ipython3",
   "version": "3.8.5-final"
  },
  "orig_nbformat": 2,
  "kernelspec": {
   "name": "python3",
   "display_name": "Python 3",
   "language": "python"
  }
 },
 "nbformat": 4,
 "nbformat_minor": 2,
 "cells": [
  {
   "cell_type": "code",
   "execution_count": null,
   "metadata": {},
   "outputs": [],
   "source": [
    "import random\n",
    "madlibs = [\n",
    "    {\n",
    "    \"story\" : \"STAR WARS MADLIB: Star Wars is a {} {} of {} versus evil in a {} far far away.There are {} battles between {} {} in {} space and {} duel with {} called {} sabers. {} called droids, are helpers and {} to the heroes. A {} power called The {} {}s people to do {} things, like {} {}. The Jedi {} us The Force for the {} side and the Sith {} it for the {} side.\",\n",
    "\n",
    "    \"entries\": [\"Enter: adjective\", \"Enter: noun\",\"Enter: adjective\", \"Enter: noun:place\", \"Enter: adjective\",\"Enter: adjective\", \"Enter: noun:vehicle\", \"Enter: adjective\", \"Enter: adjective\", \"Enter: noun\", \"Enter: adjective\", \"Enter: plural\", \"Enter: plural noun\", \"Enter: adjective\", \"Enter: noun\", \"Enter: verb\",\"Enter: adjective\", \"Enter: verb\", \"Enter: plural noun\", \"Enter: noun\", \"Enter: adjective\", \"Enter: verb\", \"Enter: adjective\"]\n",
    "    },\n",
    "    {\n",
    "    \"story\" : \"PIZZA MADLIB: Pizza was invented by a {} {} chef named {}. To make a pizza, you need to take a lump of {}, and make a thin, round {} {}. Thenn you cover it with {} sauce, {} cheese, and fresh chopped {}. Next you have to bake it in a very hot {}. when it is done, cut it into {} {}. Some kids like {} pizza the best, but my favorite is the {} pizza. if I could, I would eat pizza {} times a day \",\n",
    "\n",
    "    \"entries\": [\"Enter: adjective\", \"Enter: nationality\", \"Enter: person\", \"Enter: noun\", \"Enter: adjective\", \"Enter: noun\", \"Enter: adjective\", \"Enter: adjective\", \"Enter: plural noun\", \"Enter: noun\", \"Enter: number\", \"Enter: shapes\", \"Enter: food\", \"Enter: food\", \"Enter: number\"]\n",
    "    },\n",
    "    {\n",
    "    \"story\" : \"HALLOWEEN MADLIB: I can't believe it's already {}! I can't wait to put on my {} and visit every {} in my neighborhood. This year, I am going to dress up as (a) {}, with {} {}. Before I {}, I make sure to grab my {} {} to hold all of my {}. Finally, all of my {} are ready to go! \", \n",
    "\n",
    "    \"entries\": [\"Enter: holiday\",\"Enter: noun\",\"Enter: place\",\"Enter: person\",\"Enter: adjective\",\"Enter: body part\",\"Enter: verb\",\"Enter: adjective\",\"Enter: noun\",\"Enter: food\", \"Enter: plural noun\"]\n",
    "    },\n",
    "    {\n",
    "        \"story\": \"CHRISTMAS MADLIB: Santa Claus is a {} man who wears a {} {} suit with a {} belt and a {} {} hat. He has a long {} {} beard and his {} shakes like jelly when he laughs. Every Christmas, he rides a {} full of presents, pulled by {} {} high into the night sky. Santa {} down the chimney of people's homes to leave {}, {}, and {} under their Christmas trees.\",\n",
    "\n",
    "        \"entries\": [\"Enter: adjective\", \"Enter: adjective\", \"Enter: color\", \"Enter: adjective\", \"Enter: adjective\", \"Enter: color\", \"Enter: adjective\", \"Enter: color\", \"Enter: part of body\", \"Enter: noun\", \"Enter: number\", \"Enter: animal\", \"Enter: verb\", \"Enter: plural noun\", \"Enter: plural noun\", \"Enter: plural noun\"]\n",
    "    }\n",
    "]\n",
    "\n",
    "number = random.randint(0, len(madlibs) -1 )\n",
    "\n",
    "def get_user_input(entries):   # get user input function\n",
    "    for i in range(len(entries)):\n",
    "        entries[i] = input(entries[i])a  # loop through number of entries\n",
    "    return entries\n",
    "\n",
    "print(madlibs[number][\"story\"])\n",
    "result = get_user_input(madlibs[number][\"entries\"]) # initiate the function get_user_input\n",
    "\n",
    "madlibs[number][\"story\"].format(*result)"
   ]
  },
  {
   "cell_type": "code",
   "execution_count": null,
   "metadata": {},
   "outputs": [],
   "source": []
  }
 ]
}