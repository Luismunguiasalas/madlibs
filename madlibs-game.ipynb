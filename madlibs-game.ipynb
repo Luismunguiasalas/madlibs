{
 "metadata": {
  "language_info": {
   "codemirror_mode": {
    "name": "ipython",
    "version": 3
   },
   "file_extension": ".py",
   "mimetype": "text/x-python",
   "name": "python",
   "nbconvert_exporter": "python",
   "pygments_lexer": "ipython3",
   "version": "3.8.5-final"
  },
  "orig_nbformat": 2,
  "kernelspec": {
   "name": "python3",
   "display_name": "Python 3",
   "language": "python"
  }
 },
 "nbformat": 4,
 "nbformat_minor": 2,
 "cells": [
  {
   "cell_type": "code",
   "execution_count": 23,
   "metadata": {},
   "outputs": [
    {
     "output_type": "execute_result",
     "data": {
      "text/plain": [
       "'somethingdog, something cat'"
      ]
     },
     "metadata": {},
     "execution_count": 23
    }
   ],
   "source": [
    "starwars_madlibs = [\"\"]\n",
    "entries = [\"adjective\", \"noun\"]\n",
    "something = \"something{}, something {}\"\n",
    "def funct(entries):\n",
    "    for i in range(len(entries)):\n",
    "        entries[i] = input(entries[i])\n",
    "    return entries\n",
    "\n",
    "\n",
    "result = funct(entries)\n",
    "something.format(*entries)"
   ]
  },
  {
   "cell_type": "code",
   "execution_count": 5,
   "metadata": {},
   "outputs": [
    {
     "output_type": "execute_result",
     "data": {
      "text/plain": [
       "'something dog, world cat'"
      ]
     },
     "metadata": {},
     "execution_count": 5
    }
   ],
   "source": [
    "import random\n",
    "madlibs = [\n",
    "    {\n",
    "    \"starwars\" : \"something {}, world {}\",\n",
    "    \"entries\": [\"adjective\", \"noun\"]\n",
    "    },\n",
    "    {\n",
    "    \"starwars\" : \"something {}, world {}\",\n",
    "    \"entries\": [\"adjective\", \"noun\"]\n",
    "    },\n",
    "    {\n",
    "    \"starwars\" : \"something {}, world {}\",\n",
    "    \"entries\": [\"adjective\", \"noun\"]\n",
    "    }\n",
    "\n",
    "]\n",
    "\n",
    "number = random.randint(0, len(madlibs) -1 )\n",
    "\n",
    "def get_input(entries):\n",
    "    for i in range(len(entries)):\n",
    "        entries[i] = input(entries[i])\n",
    "    return entries\n",
    "\n",
    "result = get_input(madlibs[number][\"entries\"])\n",
    "\n",
    "madlibs[number][\"starwars\"].format(*result)\n",
    "# print(result)"
   ]
  },
  {
   "cell_type": "code",
   "execution_count": null,
   "metadata": {},
   "outputs": [],
   "source": []
  }
 ]
}